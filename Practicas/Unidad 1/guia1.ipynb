{
 "cells": [
  {
   "cell_type": "code",
   "execution_count": 1,
   "metadata": {},
   "outputs": [],
   "source": [
    "import numpy as np\n",
    "import matplotlib.pyplot as plt\n",
    "import pandas as pd"
   ]
  },
  {
   "cell_type": "markdown",
   "metadata": {},
   "source": [
    "## 1. El objetivo de este ejercicio es actualizar nuestras creencias sobre los modelos causales\n",
    "alternativos luego de observar un conjunto datos, P (Modelo|Datos).\n",
    "\n",
    "Tengo r que es en que caja esta el premio, s es la caja que el presentador señala y c la caja que yo habia elegido.\n",
    "\n"
   ]
  },
  {
   "cell_type": "markdown",
   "metadata": {},
   "source": [
    "### 1.1  Definir la distribucion de creencia conjunta como producto de las\n",
    "distribuciones condicionales del modelo"
   ]
  },
  {
   "cell_type": "code",
   "execution_count": 2,
   "metadata": {},
   "outputs": [],
   "source": [
    "#Primero defino probabilidades de los parametros, segun cada modelo\n",
    "\n",
    "def pr(r): #igual en ambos\n",
    "    return 1/3\n",
    "\n",
    "def pc(c): #igual en ambos\n",
    "    return 1/3\n",
    "\n",
    "def ps_rM0(s,r): #modelo base\n",
    "    return (r!=s) * 1/2\n",
    "\n",
    "def ps_rcM1(s,r,c): #modelo Monty Hall\n",
    "    if r!=c:\n",
    "        return (s!=r) * (s!=c) * 1\n",
    "    else:\n",
    "        return (s!=r)*1/2"
   ]
  },
  {
   "cell_type": "code",
   "execution_count": 3,
   "metadata": {},
   "outputs": [],
   "source": [
    "prcs_M = np.array([np.zeros((3,3,3)),np.zeros((3,3,3))])\n",
    "h = np.arange(3)\n",
    "\n",
    "for r in h:\n",
    "    for c in h:\n",
    "        for s in h:\n",
    "            prcs_M[0,r,c,s] = pr(r) * pc(c) * ps_rM0(s,r)\n",
    "            prcs_M[1,r,c,s] = pr(r) * pc(c) * ps_rcM1(s,r,c)"
   ]
  },
  {
   "cell_type": "markdown",
   "metadata": {},
   "source": [
    "### 1.2 Mostrar que el producto de las predicciones a priori de la secuencia\n",
    "de datos de un episodio es igual a la probabilidad conjunta a priori"
   ]
  },
  {
   "cell_type": "code",
   "execution_count": 4,
   "metadata": {},
   "outputs": [],
   "source": [
    "def pc_M(c,m): #m=0 , c=1\n",
    "    \n",
    "    return np.sum(prcs_M[m,:,c,:])\n",
    "\n",
    "def ps_cM(s,c,m):\n",
    "    #P(s|c,M) = P(s,c|M) / p(c)\n",
    "    return np.sum(prcs_M[m,:,c,s]) / pc_M(c,m)\n",
    "\n",
    "def pr_scM(r,s,c,m):\n",
    "    #P(r|s,c,M) = P(r,c,s|M)/P(c,s|M)\n",
    "    return prcs_M[m,r,c,s]/np.sum(prcs_M[m,:,c,s])"
   ]
  },
  {
   "cell_type": "code",
   "execution_count": 5,
   "metadata": {},
   "outputs": [
    {
     "data": {
      "text/plain": [
       "np.True_"
      ]
     },
     "execution_count": 5,
     "metadata": {},
     "output_type": "execute_result"
    }
   ],
   "source": [
    "def pEpisodio(c,s,r,m):\n",
    "    #P(r,c,s|M) = p(c|M) * p(s|c,M) * p(r|s,c,M)\n",
    "    if m==0:\n",
    "        return pr(r) * pc(c) * ps_rM0(s,r)\n",
    "    else:\n",
    "        return pr(r) * pc(c) * ps_rcM1(s,r,c)\n",
    "    #return pc_M(c,m) * ps_cM(s,c,m) * pr_scM(r,s,c,m)\n",
    "\n",
    "pEpisodio(c=1,s=0,r=2,m=1) == prcs_M[1,2,1,0]"
   ]
  },
  {
   "cell_type": "markdown",
   "metadata": {},
   "source": [
    "### 1.3. Simular datos con el modelo Monty Hall"
   ]
  },
  {
   "cell_type": "code",
   "execution_count": 6,
   "metadata": {},
   "outputs": [],
   "source": [
    "def simularMontyHall(n_episodios,seed=0):\n",
    "    np.random.seed(seed)\n",
    "    datos = []\n",
    "    h = np.arange(3)\n",
    "    p_r = [pr(hr) for hr in h]\n",
    "    p_c = [pc(hc) for hc in h]\n",
    "    for t in range(n_episodios):\n",
    "        r_ = np.random.choice(3,p=p_r)\n",
    "        c_ = np.random.choice(3,p=p_c)\n",
    "        p_s = [ps_rcM1(hs,r_,c_) for hs in h]\n",
    "        s_ = np.random.choice(3,p=p_s)\n",
    "        datos.append((c_,s_,r_))\n",
    "    return datos"
   ]
  },
  {
   "cell_type": "code",
   "execution_count": 7,
   "metadata": {},
   "outputs": [],
   "source": [
    "simulaciones = simularMontyHall(16)"
   ]
  },
  {
   "cell_type": "markdown",
   "metadata": {},
   "source": [
    "### 1.4. Calcular la prediccion a priori que hace cada uno de los modelos\n",
    "sobre la totalidad de la base de datos simulada"
   ]
  },
  {
   "cell_type": "code",
   "execution_count": 8,
   "metadata": {},
   "outputs": [],
   "source": [
    "predicciones = [[1],[1]]\n",
    "\n",
    "for (c,s,r) in simulaciones:\n",
    "    for m in range(2):\n",
    "        predicciones[m].append(pEpisodio(c,s,r,m))\n",
    "\n",
    "pDatos_M0, pDatos_M1 = np.prod(predicciones,axis=1)\n"
   ]
  },
  {
   "cell_type": "code",
   "execution_count": 9,
   "metadata": {},
   "outputs": [],
   "source": [
    "predDatos_M0 = predicciones[0] #probabilidad de cada episodio para cada modelo!!\n",
    "predDatos_M1 = predicciones[1]\n"
   ]
  },
  {
   "cell_type": "markdown",
   "metadata": {},
   "source": [
    "ambas son muy cercanas a 0, pero el modelo base da e^-21 y el modelo Monty Hall da e^-17"
   ]
  },
  {
   "cell_type": "markdown",
   "metadata": {},
   "source": [
    "### 1.5. Expresar intuitivamente la diferencia de desempeno predictivo de\n",
    "los modelos"
   ]
  },
  {
   "cell_type": "markdown",
   "metadata": {},
   "source": [
    "Una idea puede ser expresarlo como logaritmos!! \n",
    "Bayes Factor: log(P_m1/P_m0)\n",
    "\n",
    "Como la diferencia es en ordenes de magnitud, medimos eso"
   ]
  },
  {
   "cell_type": "code",
   "execution_count": 10,
   "metadata": {},
   "outputs": [
    {
     "data": {
      "text/plain": [
       "np.float64(4095.999999999973)"
      ]
     },
     "execution_count": 10,
     "metadata": {},
     "output_type": "execute_result"
    }
   ],
   "source": [
    "#Con profe\n",
    "log_evidencia_M0 = np.log10(pDatos_M0)\n",
    "log_evidencia_M1 = np.log10(pDatos_M1)\n",
    "#Diferencia de ordenes de magnitud\n",
    "dif = log_evidencia_M1 - log_evidencia_M0\n",
    "#cantidad de creencia que preserva M1 sobre M0\n",
    "10**(dif)"
   ]
  },
  {
   "cell_type": "code",
   "execution_count": 11,
   "metadata": {},
   "outputs": [],
   "source": [
    "# def bayes_factor():\n",
    "#     return math.log10(p_m1/p_m0)\n",
    "# bayes_factor()"
   ]
  },
  {
   "cell_type": "markdown",
   "metadata": {},
   "source": [
    "Otra idea es la Media Geometrica / Prediccion Tipica.\n",
    "\n",
    "P(datos|M) = p(d1|M) p(d2|d1,M) = prod [p(d1|M)P(d2|M)]^1/N\n",
    "\n",
    "Lo hacemos con logaritmo"
   ]
  },
  {
   "cell_type": "code",
   "execution_count": 12,
   "metadata": {},
   "outputs": [
    {
     "name": "stdout",
     "output_type": "stream",
     "text": [
      "0.4537674406297909 0.38157141418444396\n"
     ]
    }
   ],
   "source": [
    "#Media Geometrica\n",
    "media_geom_M1 = 10**(log_evidencia_M1/(len(simulaciones)*3))\n",
    "media_geom_M0 = 10**(log_evidencia_M0/(len(simulaciones)*3))\n",
    "print(media_geom_M1,media_geom_M0)"
   ]
  },
  {
   "cell_type": "code",
   "execution_count": 13,
   "metadata": {},
   "outputs": [
    {
     "data": {
      "text/plain": [
       "(np.float64(8.234550899283281e-21), np.float64(3.372872048346434e-17))"
      ]
     },
     "execution_count": 13,
     "metadata": {},
     "output_type": "execute_result"
    }
   ],
   "source": [
    "# o capaz asi, mejor asi. \n",
    "log_p_datos_M0 = np.log10(predDatos_M0)\n",
    "prediccion_tipica_datos_M0= 10**(np.sum(log_p_datos_M0)/(len(simulaciones)*3))\n",
    "pred_conjunta_datos_M0 = prediccion_tipica_datos_M0**(len(simulaciones)*3)\n",
    "\n",
    "log_p_datos_M1 = np.log10(predDatos_M1)\n",
    "prediccion_tipica_datos_M1= 10**(np.sum(log_p_datos_M1)/(len(simulaciones)*3))\n",
    "pred_conjunta_datos_M1 = prediccion_tipica_datos_M1**(len(simulaciones)*3)\n",
    "\n",
    "pred_conjunta_datos_M0,pred_conjunta_datos_M1"
   ]
  },
  {
   "cell_type": "markdown",
   "metadata": {},
   "source": [
    "### 1.6. Calcular la prediccion de los datos con la contribucion de todos los\n",
    "modelos."
   ]
  },
  {
   "cell_type": "code",
   "execution_count": 14,
   "metadata": {},
   "outputs": [],
   "source": [
    "def pM(m):\n",
    "    return 1/2\n",
    "\n",
    "pDatosM = [np.cumprod(predDatos_M0) * pM(0) , np.cumprod(predDatos_M1) * pM(1)]\n",
    "pDatos = pDatosM[0] + pDatosM[1]\n",
    "\n",
    "pM_Datos = pDatosM/pDatos"
   ]
  },
  {
   "cell_type": "code",
   "execution_count": 15,
   "metadata": {},
   "outputs": [
    {
     "data": {
      "text/plain": [
       "array([[5.00000000e-01, 3.33333333e-01, 3.33333333e-01, 2.00000000e-01,\n",
       "        1.11111111e-01, 5.88235294e-02, 5.88235294e-02, 5.88235294e-02,\n",
       "        3.03030303e-02, 1.53846154e-02, 7.75193798e-03, 3.89105058e-03,\n",
       "        1.94931774e-03, 1.94931774e-03, 9.75609756e-04, 4.88042948e-04,\n",
       "        2.44081035e-04],\n",
       "       [5.00000000e-01, 6.66666667e-01, 6.66666667e-01, 8.00000000e-01,\n",
       "        8.88888889e-01, 9.41176471e-01, 9.41176471e-01, 9.41176471e-01,\n",
       "        9.69696970e-01, 9.84615385e-01, 9.92248062e-01, 9.96108949e-01,\n",
       "        9.98050682e-01, 9.98050682e-01, 9.99024390e-01, 9.99511957e-01,\n",
       "        9.99755919e-01]])"
      ]
     },
     "execution_count": 15,
     "metadata": {},
     "output_type": "execute_result"
    }
   ],
   "source": [
    "pM_Datos"
   ]
  },
  {
   "cell_type": "markdown",
   "metadata": {},
   "source": [
    "### 1.8. Graficar el valor del posterior a medida que se observan nuevos\n",
    "episodios"
   ]
  },
  {
   "cell_type": "code",
   "execution_count": 16,
   "metadata": {},
   "outputs": [
    {
     "data": {
      "text/plain": [
       "[<matplotlib.lines.Line2D at 0x7d6d7897e8f0>]"
      ]
     },
     "execution_count": 16,
     "metadata": {},
     "output_type": "execute_result"
    },
    {
     "data": {
      "image/png": "[encoded data removed]",
      "text/plain": [
       "<Figure size 640x480 with 1 Axes>"
      ]
     },
     "metadata": {},
     "output_type": "display_data"
    }
   ],
   "source": [
    "plt.plot(pM_Datos[0])\n",
    "plt.plot(pM_Datos[1])"
   ]
  },
  {
   "cell_type": "markdown",
   "metadata": {},
   "source": [
    "### 1.9. Leer los datos NoMontyHall.csv, proponer un modelo alternativo\n",
    "superior a Monty Hall y el modelo Base, y evaluarlo en funci´on del\n",
    "desempe˜no predictivo.\n",
    "\n"
   ]
  },
  {
   "cell_type": "code",
   "execution_count": 17,
   "metadata": {},
   "outputs": [],
   "source": [
    "datosNoMonty = pd.read_csv(\"Materiales1/datos/NoMontyHall.csv\")"
   ]
  },
  {
   "cell_type": "code",
   "execution_count": 18,
   "metadata": {},
   "outputs": [
    {
     "data": {
      "text/html": [
       "<div>\n",
       "<style scoped>\n",
       "    .dataframe tbody tr th:only-of-type {\n",
       "        vertical-align: middle;\n",
       "    }\n",
       "\n",
       "    .dataframe tbody tr th {\n",
       "        vertical-align: top;\n",
       "    }\n",
       "\n",
       "    .dataframe thead th {\n",
       "        text-align: right;\n",
       "    }\n",
       "</style>\n",
       "<table border=\"1\" class=\"dataframe\">\n",
       "  <thead>\n",
       "    <tr style=\"text-align: right;\">\n",
       "      <th></th>\n",
       "      <th>c</th>\n",
       "      <th>s</th>\n",
       "      <th>r</th>\n",
       "    </tr>\n",
       "  </thead>\n",
       "  <tbody>\n",
       "    <tr>\n",
       "      <th>0</th>\n",
       "      <td>2</td>\n",
       "      <td>0</td>\n",
       "      <td>1</td>\n",
       "    </tr>\n",
       "    <tr>\n",
       "      <th>1</th>\n",
       "      <td>1</td>\n",
       "      <td>2</td>\n",
       "      <td>1</td>\n",
       "    </tr>\n",
       "    <tr>\n",
       "      <th>2</th>\n",
       "      <td>1</td>\n",
       "      <td>0</td>\n",
       "      <td>2</td>\n",
       "    </tr>\n",
       "    <tr>\n",
       "      <th>3</th>\n",
       "      <td>2</td>\n",
       "      <td>0</td>\n",
       "      <td>1</td>\n",
       "    </tr>\n",
       "    <tr>\n",
       "      <th>4</th>\n",
       "      <td>2</td>\n",
       "      <td>1</td>\n",
       "      <td>0</td>\n",
       "    </tr>\n",
       "    <tr>\n",
       "      <th>...</th>\n",
       "      <td>...</td>\n",
       "      <td>...</td>\n",
       "      <td>...</td>\n",
       "    </tr>\n",
       "    <tr>\n",
       "      <th>1995</th>\n",
       "      <td>1</td>\n",
       "      <td>2</td>\n",
       "      <td>0</td>\n",
       "    </tr>\n",
       "    <tr>\n",
       "      <th>1996</th>\n",
       "      <td>2</td>\n",
       "      <td>0</td>\n",
       "      <td>1</td>\n",
       "    </tr>\n",
       "    <tr>\n",
       "      <th>1997</th>\n",
       "      <td>1</td>\n",
       "      <td>0</td>\n",
       "      <td>2</td>\n",
       "    </tr>\n",
       "    <tr>\n",
       "      <th>1998</th>\n",
       "      <td>0</td>\n",
       "      <td>1</td>\n",
       "      <td>2</td>\n",
       "    </tr>\n",
       "    <tr>\n",
       "      <th>1999</th>\n",
       "      <td>2</td>\n",
       "      <td>1</td>\n",
       "      <td>2</td>\n",
       "    </tr>\n",
       "  </tbody>\n",
       "</table>\n",
       "<p>2000 rows × 3 columns</p>\n",
       "</div>"
      ],
      "text/plain": [
       "      c  s  r\n",
       "0     2  0  1\n",
       "1     1  2  1\n",
       "2     1  0  2\n",
       "3     2  0  1\n",
       "4     2  1  0\n",
       "...  .. .. ..\n",
       "1995  1  2  0\n",
       "1996  2  0  1\n",
       "1997  1  0  2\n",
       "1998  0  1  2\n",
       "1999  2  1  2\n",
       "\n",
       "[2000 rows x 3 columns]"
      ]
     },
     "execution_count": 18,
     "metadata": {},
     "output_type": "execute_result"
    }
   ],
   "source": [
    "datosNoMonty"
   ]
  },
  {
   "cell_type": "markdown",
   "metadata": {},
   "source": [
    "P(r, c, s, a, p|M2) = P(r)P(c)P(s|r, M0)^(1−a) P(s|r, c, M1)^(a) P(a|p)P(p)\n",
    "\n",
    "Crear un modelo alternativo que tenga un desempeno similar al modelo Monty Hall. \n",
    "Calcular la secuencia de predicciones de los tres modelos en esta nueva base de datos (Modelo Base, Monty Hall y Alternativo). \n",
    "Calcular la diferencia de desempeno predictivo en  ́orden de magnitud entre los modelos. \n",
    "Calcular la media geometrica de las predicciones de los diferentes modelos. \n",
    "Graficar el posterior de los tres modelos en los primeros 60 episodios."
   ]
  },
  {
   "cell_type": "code",
   "execution_count": 19,
   "metadata": {},
   "outputs": [
    {
     "data": {
      "text/plain": [
       "' \\nLa idea es modelar la p como un listado discreto de probabilidades.\\nIr integrando....\\n'"
      ]
     },
     "execution_count": 19,
     "metadata": {},
     "output_type": "execute_result"
    }
   ],
   "source": [
    "''' \n",
    "La idea es modelar la p como un listado discreto de probabilidades.\n",
    "Ir integrando....\n",
    "'''"
   ]
  },
  {
   "cell_type": "code",
   "execution_count": 20,
   "metadata": {},
   "outputs": [],
   "source": [
    "import random\n",
    "import numpy as np"
   ]
  },
  {
   "cell_type": "code",
   "execution_count": 49,
   "metadata": {},
   "outputs": [],
   "source": [
    "n_p = 1000\n",
    "\n",
    "\n",
    "def pp_M2(p):\n",
    "    return 1/n_p\n",
    "\n",
    "def pa_pM2(a,p):\n",
    "    if a ==1:\n",
    "        return p\n",
    "    else:\n",
    "        return 1-p\n",
    "\n",
    "def prcsap_M2(s,r,c,a,p):\n",
    "    return pr(r)*pc(c)*ps_rM0(s,r)**(1-a) * ps_rcM1(s,r,c)**a *pa_pM2(a,p) * pp_M2(p)\n",
    "\n"
   ]
  },
  {
   "cell_type": "code",
   "execution_count": 50,
   "metadata": {},
   "outputs": [],
   "source": [
    "#Predicciones\n",
    "def pEpisodio_mas_modelos(c,s,r,m):\n",
    "    #P(r,c,s|M) = p(c|M) * p(s|c,M) * p(r|s,c,M)\n",
    "    if m==0:\n",
    "        return pr(r) * pc(c) * ps_rM0(s,r)\n",
    "    elif m == 1:\n",
    "        return pr(r) * pc(c) * ps_rcM1(s,r,c)\n",
    "    else:\n",
    "        return sum([prcsap_M2(s,r,c,a,p) for a in [0,1] for p in np.linspace(0,1,n_p)])\n",
    "        "
   ]
  },
  {
   "cell_type": "code",
   "execution_count": 51,
   "metadata": {},
   "outputs": [
    {
     "name": "stderr",
     "output_type": "stream",
     "text": [
      "/tmp/ipykernel_3640/1167365379.py:10: RuntimeWarning: invalid value encountered in divide\n",
      "  pM_Datos = pDatos_M/pDatos\n"
     ]
    }
   ],
   "source": [
    "predicciones = [[1],[1],[1]]\n",
    "\n",
    "for (c,s,r) in datosNoMonty.values:\n",
    "    for m in range(3):\n",
    "        predicciones[m].append(pEpisodio_mas_modelos(c,s,r,m))\n",
    "\n",
    "pDatos_M = [np.cumprod(predicciones[0]) * 1/3 , np.cumprod(predicciones[1]) * 1/3, np.cumprod(predicciones[2]) * 1/3]\n",
    "pDatos = pDatos_M[0] + pDatos_M[1] + pDatos_M[2]\n",
    "\n",
    "pM_Datos = pDatos_M/pDatos"
   ]
  },
  {
   "cell_type": "code",
   "execution_count": 53,
   "metadata": {},
   "outputs": [
    {
     "data": {
      "text/plain": [
       "<matplotlib.legend.Legend at 0x7d6d4dacbe20>"
      ]
     },
     "execution_count": 53,
     "metadata": {},
     "output_type": "execute_result"
    },
    {
     "data": {
      "image/png": "[encoded data removed]",
      "text/plain": [
       "<Figure size 640x480 with 1 Axes>"
      ]
     },
     "metadata": {},
     "output_type": "display_data"
    }
   ],
   "source": [
    "space = 60\n",
    "plt.plot(pM_Datos[0][0:space])\n",
    "plt.plot(pM_Datos[1][0:space])\n",
    "plt.plot(pM_Datos[2][0:space])\n",
    "plt.legend([0,1,2])"
   ]
  },
  {
   "cell_type": "markdown",
   "metadata": {},
   "source": [
    "Hacer con matriz, integrar por a=0,a=1 y varias p."
   ]
  },
  {
   "cell_type": "markdown",
   "metadata": {},
   "source": [
    "## Ejercicio 2\n"
   ]
  },
  {
   "cell_type": "markdown",
   "metadata": {},
   "source": [
    "### 2.1. Generar datos con el modelo AcausaB"
   ]
  },
  {
   "cell_type": "code",
   "execution_count": 25,
   "metadata": {},
   "outputs": [],
   "source": [
    "pA_MAB = np.array([0.5,0.5])\n",
    "pAB_MAB = np.array([[0.95,0.05],[0.05,0.95]]) #A,B\n",
    "\n",
    "pB_MBA = np.array([0.5,0.5])\n",
    "pBA_MBA = np.array([[0.95,0.05],[0.05,0.95]]) #B,A\n",
    "\n",
    "def gen_datos_AcausaB(n=16,seed=0):\n",
    "    np.random.seed(seed)\n",
    "    datos = []\n",
    "    for i in range(n):\n",
    "        a = np.random.choice([0,1],p=pA_MAB)\n",
    "        b = np.random.choice([0,1],p=pAB_MAB[a])\n",
    "        datos.append((a,b))\n",
    "    return datos\n",
    "\n",
    "datosAcausaB = gen_datos_AcausaB()\n",
    "\n"
   ]
  },
  {
   "cell_type": "code",
   "execution_count": 26,
   "metadata": {},
   "outputs": [
    {
     "data": {
      "text/plain": [
       "[(np.int64(1), np.int64(1)),\n",
       " (np.int64(1), np.int64(1)),\n",
       " (np.int64(0), np.int64(0)),\n",
       " (np.int64(0), np.int64(0)),\n",
       " (np.int64(1), np.int64(1)),\n",
       " (np.int64(1), np.int64(1)),\n",
       " (np.int64(1), np.int64(1)),\n",
       " (np.int64(0), np.int64(0)),\n",
       " (np.int64(0), np.int64(0)),\n",
       " (np.int64(1), np.int64(1)),\n",
       " (np.int64(1), np.int64(1)),\n",
       " (np.int64(0), np.int64(0)),\n",
       " (np.int64(0), np.int64(0)),\n",
       " (np.int64(0), np.int64(0)),\n",
       " (np.int64(1), np.int64(1)),\n",
       " (np.int64(0), np.int64(0))]"
      ]
     },
     "execution_count": 26,
     "metadata": {},
     "output_type": "execute_result"
    }
   ],
   "source": [
    "datosAcausaB"
   ]
  },
  {
   "cell_type": "markdown",
   "metadata": {},
   "source": [
    "### 2.2. Evaluar el desempeno predictivo de los modelos causales alterna-\n",
    "tivos sobre los datos sint ́eticos generados en el punto anterior"
   ]
  },
  {
   "cell_type": "markdown",
   "metadata": {},
   "source": [
    "\n",
    "\n",
    "Es decir, quiero p(Datos|Modelo) = prod p(a_i,b_i | Modelo)\n",
    "\n",
    "Pero p(a_i,b_i | Modelo) depende del modelo:\n",
    "\n",
    "- p(a_i,b_i | mAB) = p(b_i | a_i) * p(a_i|mAB)\n",
    "- p(a_i,b_i | mA) = p(a_i | b_i) * p(b_i|mBA)\n",
    "\n",
    "Una vez tengo p(Datos|Modelo) puedo compararlos"
   ]
  },
  {
   "cell_type": "code",
   "execution_count": 27,
   "metadata": {},
   "outputs": [
    {
     "data": {
      "text/plain": [
       "[[np.float64(0.475),\n",
       "  np.float64(0.475),\n",
       "  np.float64(0.475),\n",
       "  np.float64(0.475),\n",
       "  np.float64(0.475),\n",
       "  np.float64(0.475),\n",
       "  np.float64(0.475),\n",
       "  np.float64(0.475),\n",
       "  np.float64(0.475),\n",
       "  np.float64(0.475),\n",
       "  np.float64(0.475),\n",
       "  np.float64(0.475),\n",
       "  np.float64(0.475),\n",
       "  np.float64(0.475),\n",
       "  np.float64(0.475),\n",
       "  np.float64(0.475)],\n",
       " [np.float64(0.475),\n",
       "  np.float64(0.475),\n",
       "  np.float64(0.475),\n",
       "  np.float64(0.475),\n",
       "  np.float64(0.475),\n",
       "  np.float64(0.475),\n",
       "  np.float64(0.475),\n",
       "  np.float64(0.475),\n",
       "  np.float64(0.475),\n",
       "  np.float64(0.475),\n",
       "  np.float64(0.475),\n",
       "  np.float64(0.475),\n",
       "  np.float64(0.475),\n",
       "  np.float64(0.475),\n",
       "  np.float64(0.475),\n",
       "  np.float64(0.475)]]"
      ]
     },
     "execution_count": 27,
     "metadata": {},
     "output_type": "execute_result"
    }
   ],
   "source": [
    "\n",
    "\n",
    "def pB_A_MAB(A,B): #posterior modelo AB\n",
    "    return pAB_MAB[A,B] * pA_MAB[A]\n",
    "\n",
    "def pA_B_MBA(A,B): #posterior modelo BA\n",
    "    return pBA_MBA[B,A] * pB_MBA[B]\n",
    "\n",
    "def pred_AB_M(A,B,m): #m=0 es AB, m=1 es BA\n",
    "    if m==0:\n",
    "        return pB_A_MAB(A,B)\n",
    "    else:\n",
    "        return pA_B_MBA(A,B)\n",
    "\n",
    "predicciones_modelos_AB_BA=[[],[]]\n",
    "for (a,b) in datosAcausaB:\n",
    "    for m in range(2):\n",
    "        predicciones_modelos_AB_BA[m].append(pred_AB_M(a,b,m))\n",
    "predicciones_modelos_AB_BA"
   ]
  },
  {
   "cell_type": "code",
   "execution_count": 28,
   "metadata": {},
   "outputs": [
    {
     "data": {
      "text/plain": [
       "(np.float64(6.715799997738117e-06), np.float64(6.715799997738117e-06))"
      ]
     },
     "execution_count": 28,
     "metadata": {},
     "output_type": "execute_result"
    }
   ],
   "source": [
    "pDatosAB_MAB = np.prod(predicciones_modelos_AB_BA[0])\n",
    "pDatosAB_MBA = np.prod(predicciones_modelos_AB_BA[1])\n",
    "pDatosAB_MAB,pDatosAB_MBA"
   ]
  },
  {
   "cell_type": "markdown",
   "metadata": {},
   "source": [
    "Ambos modelos tienen igual desempeño!!!"
   ]
  },
  {
   "cell_type": "markdown",
   "metadata": {},
   "source": [
    "### 2.3. Actualizar la creencia respecto de los modelos causales alternativos luego de ver los datos."
   ]
  },
  {
   "cell_type": "code",
   "execution_count": 29,
   "metadata": {},
   "outputs": [
    {
     "data": {
      "text/plain": [
       "array([[0.5, 0.5, 0.5, 0.5, 0.5, 0.5, 0.5, 0.5, 0.5, 0.5, 0.5, 0.5, 0.5,\n",
       "        0.5, 0.5, 0.5],\n",
       "       [0.5, 0.5, 0.5, 0.5, 0.5, 0.5, 0.5, 0.5, 0.5, 0.5, 0.5, 0.5, 0.5,\n",
       "        0.5, 0.5, 0.5]])"
      ]
     },
     "execution_count": 29,
     "metadata": {},
     "output_type": "execute_result"
    }
   ],
   "source": [
    "pDatos_AcausaB_Modelos = [np.cumprod(predicciones_modelos_AB_BA[0] )* 1/2,np.cumprod(predicciones_modelos_AB_BA[1] )* 1/2]\n",
    "pDatos_AcausaB = pDatos_AcausaB_Modelos[0] + pDatos_AcausaB_Modelos[1]\n",
    "pModelos_DatosAcausaB = pDatos_AcausaB_Modelos/pDatos_AcausaB\n",
    "pModelos_DatosAcausaB"
   ]
  },
  {
   "cell_type": "markdown",
   "metadata": {},
   "source": [
    "### 2.4 Conclusiones"
   ]
  },
  {
   "cell_type": "markdown",
   "metadata": {},
   "source": [
    "\n",
    "Son exactamente iguales!!!\n",
    "En los datos originales siempre caen en 1,1 o 0,0, quizas ahi esta el problema!!\n",
    "\n",
    "NOTAS clase 2/9\n",
    "Efectivamente debia dar asi. Esto es porque....... es la misma distribucion conjunta!!! La posterior es igual!!!\n",
    "No puedo comparar modelos solo con datos cuando las posteriors son iguales!!!!"
   ]
  },
  {
   "cell_type": "markdown",
   "metadata": {},
   "source": [
    "## 3. Modelos polinomiales de complejidad creciente."
   ]
  },
  {
   "cell_type": "code",
   "execution_count": null,
   "metadata": {},
   "outputs": [],
   "source": []
  },
  {
   "cell_type": "code",
   "execution_count": 69,
   "metadata": {},
   "outputs": [],
   "source": [
    "import Materiales1.ModeloLineal as modeloLineal\n",
    "import statsmodels.regression.linear_model as st\n",
    "import numpy as np\n",
    "import pandas as pd\n",
    "import matplotlib.pyplot as plt\n",
    "import scipy as sc\n"
   ]
  },
  {
   "cell_type": "markdown",
   "metadata": {},
   "source": [
    "### 3.1. Generar 20 datos alrededor de una per´ıodo de una sinoidal"
   ]
  },
  {
   "cell_type": "code",
   "execution_count": 105,
   "metadata": {},
   "outputs": [],
   "source": [
    "x_datos = sc.stats.uniform.rvs(-0.5,1,20)\n",
    "y_datos = np.sin(2*np.pi*x_datos) + sc.stats.norm.rvs(0,0.1,len(x_datos))"
   ]
  },
  {
   "cell_type": "code",
   "execution_count": 99,
   "metadata": {},
   "outputs": [],
   "source": [
    "x_tot=np.linspace(-0.5,0.5,100)\n",
    "y_tot=np.sin(2*np.pi*x_tot)"
   ]
  },
  {
   "cell_type": "code",
   "execution_count": 106,
   "metadata": {},
   "outputs": [
    {
     "data": {
      "text/plain": [
       "[<matplotlib.lines.Line2D at 0x7d6d4cd750c0>]"
      ]
     },
     "execution_count": 106,
     "metadata": {},
     "output_type": "execute_result"
    },
    {
     "data": {
      "image/png": "[encoded data removed]",
      "text/plain": [
       "<Figure size 640x480 with 1 Axes>"
      ]
     },
     "metadata": {},
     "output_type": "display_data"
    }
   ],
   "source": [
    "plt.scatter(x_datos,y_datos)\n",
    "plt.plot(x_tot,y_tot)"
   ]
  },
  {
   "cell_type": "markdown",
   "metadata": {},
   "source": [
    "### 3.2. Graficar el valor de m´axima verosimilitud obtenido por los modelos polinomiales de grado 0 a 9\n"
   ]
  },
  {
   "cell_type": "code",
   "execution_count": 107,
   "metadata": {},
   "outputs": [
    {
     "data": {
      "text/plain": [
       "<BarContainer object of 10 artists>"
      ]
     },
     "execution_count": 107,
     "metadata": {},
     "output_type": "execute_result"
    },
    {
     "data": {
      "image/png": "[encoded data removed]",
      "text/plain": [
       "<Figure size 640x480 with 1 Axes>"
      ]
     },
     "metadata": {},
     "output_type": "display_data"
    }
   ],
   "source": [
    "x_predicciones = [[[x ** i for i in range(grado+1)] for x in x_datos]  for grado in range(10)]\n",
    "models = [st.OLS(y_datos,x_predicciones[grado]) for grado in range(10)]\n",
    "params = [model.fit() for model in models]\n",
    "likelihoods = [models[i].loglike(params[i].params) for i in range(10)]\n",
    "plt.bar(range(10),likelihoods)\n",
    "    # models[grado] = st.OLS(y_datos,x_predicciones[grado])\n",
    "    # params = models[grado].fit()\n",
    "    # plt.plot(models[grado].loglike(params))"
   ]
  },
  {
   "cell_type": "code",
   "execution_count": 108,
   "metadata": {},
   "outputs": [
    {
     "data": {
      "image/png": "[encoded data removed]",
      "text/plain": [
       "<Figure size 640x480 with 1 Axes>"
      ]
     },
     "metadata": {},
     "output_type": "display_data"
    }
   ],
   "source": [
    "for i in range(10):\n",
    "    plt.bar(i,modeloLineal.likelihood(np.array(params[i].params),y_datos,x_predicciones[i]))"
   ]
  },
  {
   "cell_type": "markdown",
   "metadata": {},
   "source": [
    "## 3.3. Graficar las curvas obtenidas con cada modelo mediante m ́axima\n",
    "verosimilitud."
   ]
  },
  {
   "cell_type": "code",
   "execution_count": 112,
   "metadata": {},
   "outputs": [
    {
     "data": {
      "text/plain": [
       "array([ 0.40891988,  0.4784044 ,  0.48555983, -0.89592356, -0.35633192,\n",
       "        0.26815806,  0.48965907,  0.48990946,  0.19617463,  0.48088445,\n",
       "        0.29498872, -0.05443573,  0.09907936,  0.25403462,  0.18702212,\n",
       "        0.48398835,  0.48183378, -0.04605028,  0.49248261, -0.49114529])"
      ]
     },
     "execution_count": 112,
     "metadata": {},
     "output_type": "execute_result"
    }
   ],
   "source": [
    "models[2].predict(params[2].params,x_predicciones[2])"
   ]
  },
  {
   "cell_type": "code",
   "execution_count": 117,
   "metadata": {},
   "outputs": [
    {
     "data": {
      "text/plain": [
       "<matplotlib.legend.Legend at 0x7d6d4ca32aa0>"
      ]
     },
     "execution_count": 117,
     "metadata": {},
     "output_type": "execute_result"
    },
    {
     "data": {
      "image/png": "[encoded data removed]",
      "text/plain": [
       "<Figure size 640x480 with 1 Axes>"
      ]
     },
     "metadata": {},
     "output_type": "display_data"
    }
   ],
   "source": [
    "\n",
    "x_tot_transform = [[[x ** i for i in range(grado+1)] for x in x_tot]  for grado in range(10)]\n",
    "predicciones= [models[i].predict(params[i].params,x_tot_transform[i]) for i in range(10)]\n",
    "for i in range(10):\n",
    "    plt.plot(x_tot,predicciones[i])\n",
    "plt.legend([f\"Modelo {i}\" for i in range(10)])"
   ]
  },
  {
   "cell_type": "markdown",
   "metadata": {},
   "source": [
    "## 3.4. Evaluaci ́on de la predicci ́on “en l ́ınea” que hacen los modelos ajus-tados por m ́axima verosimilitud."
   ]
  },
  {
   "cell_type": "code",
   "execution_count": 141,
   "metadata": {},
   "outputs": [
    {
     "data": {
      "text/plain": [
       "[<matplotlib.lines.Line2D at 0x7d6d45a6f790>]"
      ]
     },
     "execution_count": 141,
     "metadata": {},
     "output_type": "execute_result"
    },
    {
     "data": {
      "image/png": "[encoded data removed]",
      "text/plain": [
       "<Figure size 640x480 with 1 Axes>"
      ]
     },
     "metadata": {},
     "output_type": "display_data"
    }
   ],
   "source": [
    "beta_grid = np.linspace(-1,1,100)\n",
    "beta_dist = sc.stats.norm.pdf(beta_grid,0,0.5)\n",
    "plt.plot(beta_grid,beta_dist)"
   ]
  },
  {
   "cell_type": "markdown",
   "metadata": {},
   "source": [
    "Muchas simplificaciones!!!!\n",
    "prediccion = p(y|datos,beta) que es una normal.\n",
    "beta desconocido pero usa el mismo con el que creo los datos."
   ]
  },
  {
   "cell_type": "markdown",
   "metadata": {},
   "source": [
    "Basicamente, ajusto/entreno c dos datos, genero \"predicciones\". Esas \"predicciones\" voy a ir haciendo el producto. Despues entreno con 3 datos, genero \"prediccion\" del 4to. Y asi."
   ]
  },
  {
   "cell_type": "markdown",
   "metadata": {},
   "source": [
    "Puedo hacer lo siguiente:\n",
    "- Genero predict de 2 datos.\n",
    "- Lo uso de media para una pdf y evaluo el valor posta. Ademas, integro eso por la distribucion de mi beta.\n",
    "sum pdf(y,y_predict,beta) * distrib_beta(beta) / len(beta_grid)\n",
    "Esa va a ser mi prediccion de y? Probar vs pdf(y,y_predict,beta) con beta real (0.2?)"
   ]
  },
  {
   "cell_type": "markdown",
   "metadata": {},
   "source": [
    "no correr, rompe."
   ]
  },
  {
   "cell_type": "code",
   "execution_count": 137,
   "metadata": {},
   "outputs": [
    {
     "name": "stderr",
     "output_type": "stream",
     "text": [
      "/tmp/ipykernel_3640/1098812547.py:10: RuntimeWarning: invalid value encountered in log\n",
      "  prods_predicts += np.log(modelo.predict(params,x))\n"
     ]
    }
   ],
   "source": [
    "producto_predicciones_parciales = []\n",
    "\n",
    "for i in range(10):\n",
    "    prods_predicts = 1\n",
    "    modelo = st.OLS(y_datos[:2],x_predicciones[i][:2])\n",
    "    params = modelo.fit().params\n",
    "    prods_predicts *= sc.stats.norm.pdf(y_datos[2],modelo.predict(params,x_predicciones[i][2]),) #modelo.predict(params,x_predicciones[i][2])\n",
    "    for j,x in enumerate(x_predicciones[i][3:]):\n",
    "        modelo = st.OLS(y_datos[:j+3],x_predicciones[i][:j+3])\n",
    "        params = modelo.fit().params\n",
    "        prods_predicts += np.log(modelo.predict(params,x))\n",
    "    producto_predicciones_parciales.append(prods_predicts)"
   ]
  },
  {
   "cell_type": "code",
   "execution_count": null,
   "metadata": {},
   "outputs": [],
   "source": []
  },
  {
   "cell_type": "code",
   "execution_count": 138,
   "metadata": {},
   "outputs": [
    {
     "data": {
      "text/plain": [
       "<BarContainer object of 10 artists>"
      ]
     },
     "execution_count": 138,
     "metadata": {},
     "output_type": "execute_result"
    },
    {
     "data": {
      "image/png": "[encoded data removed]",
      "text/plain": [
       "<Figure size 640x480 with 1 Axes>"
      ]
     },
     "metadata": {},
     "output_type": "display_data"
    }
   ],
   "source": [
    "plt.bar(range(10),producto_predicciones_parciales)"
   ]
  }
 ],
 "metadata": {
  "kernelspec": {
   "display_name": ".venv",
   "language": "python",
   "name": "python3"
  },
  "language_info": {
   "codemirror_mode": {
    "name": "ipython",
    "version": 3
   },
   "file_extension": ".py",
   "mimetype": "text/x-python",
   "name": "python",
   "nbconvert_exporter": "python",
   "pygments_lexer": "ipython3",
   "version": "3.10.12"
  }
 },
 "nbformat": 4,
 "nbformat_minor": 2
}
