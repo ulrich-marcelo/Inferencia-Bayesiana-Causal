{
 "cells": [
  {
   "cell_type": "markdown",
   "metadata": {},
   "source": [
    "Leer Pearl, gigachad de la inferencia bayesiana y causal. 2016 Causal inference in statistics: a primer."
   ]
  },
  {
   "cell_type": "markdown",
   "metadata": {},
   "source": [
    "Como determinar el efecto causal entre dos variables basados en datos sin experimentos aleatorios."
   ]
  },
  {
   "cell_type": "markdown",
   "metadata": {},
   "source": [
    "Ejemplo: Modelo M\n",
    "\n",
    "Operador Do(X)\n",
    "\n",
    "Agarramos un modelo y a la variable X la independizamos, es decir, lo tomamos como un experimento aleatorio.\n",
    "\n",
    "p(a) != p(a|e=0) != p(a|do(e=0))"
   ]
  },
  {
   "cell_type": "markdown",
   "metadata": {},
   "source": [
    "Niveles de razonamiento causal\n",
    "\n",
    "1. Asociacional: P(y|x,M) y P(M|x)\n",
    "\n",
    "2. Intervencional: P()\n",
    "\n",
    "3. Contrafactual"
   ]
  },
  {
   "cell_type": "markdown",
   "metadata": {},
   "source": [
    "Ejemplo Monty Hall Intervencional\n",
    "\n",
    "Ejemplo Monty Hall Contrafactico"
   ]
  },
  {
   "cell_type": "markdown",
   "metadata": {},
   "source": [
    "Entonces... como hacemos sin experimentos aleatorios? Con datasets??\n",
    "\n"
   ]
  },
  {
   "cell_type": "markdown",
   "metadata": {},
   "source": [
    "Tengo enfermedad, te pega leve o severo (E0 = 0 u 1)\n",
    "Tengo tratamientos, el basico o especial (T = 0 u 1)\n",
    "Tengo estado final, leve o severo (E1 = 0 u 1)\n",
    "\n",
    "Tablas:\n",
    "\n",
    "P(E0 = 0) = 1450/2050\n",
    "P(E0 = 1) =  600/2050\n",
    "\n",
    "P(T | E0)| T = 0     | T = 1\n",
    "----------------------------------\n",
    "E0 = 0   | 1400/1450 | 50/1450\n",
    "E0 = 1   | 100/600   | 500/600\n",
    "\n",
    "\n",
    "P(E1 | T, E0)\n",
    "\n",
    "Tabla doble con resultados\n",
    "\n",
    "En funcion de esa podemos sacar inferencias causales para subpoblaciones (E0=0 -> E1=1 empeoraba 10% y 15% para T=0 y T=1)\n",
    "\n",
    "Queremos P(E1 | Do(T))\n",
    "\n",
    "A partir de modelo intervenido, lo unico que cambia en distribuciones de probabilidad es P(t), ejemplo una Bernoulli(0.5).\n",
    "\n",
    "Haciendo cuentas, marginalizando, sale\n",
    "\n",
    "P(e1 | do(t)) = sum_e0  P(e0) P(e1|t,e0)\n",
    "\n",
    "Es decir, es calcular para cada subgrupo y ponderar por tamaño de grupo\n",
    "\n",
    "P(e1=1 | do(T1)) - P(e1=1 | do(T=0)) = -0.0646\n",
    "\n",
    "\n",
    "\n"
   ]
  },
  {
   "cell_type": "markdown",
   "metadata": {},
   "source": [
    "Di masterclass\n",
    "\n",
    "Entendi todo\n",
    "\n",
    "La generalizacion es god. Con eso entendes todo.\n",
    "C\n",
    "\n",
    "Con #Kappa >1 Kappa es vector y la formula general son varias sumatorias."
   ]
  },
  {
   "cell_type": "markdown",
   "metadata": {},
   "source": [
    "Que pasa si las causas de X no fueron observadas??"
   ]
  },
  {
   "cell_type": "markdown",
   "metadata": {},
   "source": [
    "Necesitamos Variables de Control (Exchangeability) (W)\n",
    "Queremos probar que T|W\n",
    "\n",
    "Modelo con contrafactuales\n",
    "\n",
    "Twin Networks"
   ]
  },
  {
   "cell_type": "markdown",
   "metadata": {},
   "source": [
    "Estructuras de caminos complejos\n",
    "Pipes Forks y Colliders\n",
    "\n",
    "Que pasa si veo una variable u otra.\n",
    "\n",
    "\n",
    "Backdoor Criterion"
   ]
  },
  {
   "cell_type": "markdown",
   "metadata": {},
   "source": [
    "Ejemplazo z y w"
   ]
  },
  {
   "cell_type": "markdown",
   "metadata": {},
   "source": [
    "Controles Buenos\n",
    "\n",
    "Fork(X,Z,Y) con X->Y\n",
    "\n",
    "Etc"
   ]
  }
 ],
 "metadata": {
  "kernelspec": {
   "display_name": ".venv",
   "language": "python",
   "name": "python3"
  },
  "language_info": {
   "codemirror_mode": {
    "name": "ipython",
    "version": 3
   },
   "file_extension": ".py",
   "mimetype": "text/x-python",
   "name": "python",
   "nbconvert_exporter": "python",
   "pygments_lexer": "ipython3",
   "version": "3.10.12"
  }
 },
 "nbformat": 4,
 "nbformat_minor": 2
}
