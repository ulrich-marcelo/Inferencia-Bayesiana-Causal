{
 "cells": [
  {
   "cell_type": "markdown",
   "metadata": {},
   "source": [
    "## Unidad 5 - Modelos de Historia Completa (Series Temporales)"
   ]
  },
  {
   "cell_type": "markdown",
   "metadata": {},
   "source": [
    "TrueSkill through time 2008\n",
    "\n",
    "Pattern recognition and machine learning 2006"
   ]
  },
  {
   "cell_type": "markdown",
   "metadata": {},
   "source": [
    "Series de tiempo, creencias adaptativas\n",
    "Funcion de costo epistemica\n",
    "\n",
    "\n",
    "\n",
    "en este contexto, la habilidad cambia con el tiempo. A vs B ambos ganan 1 pero el posterior de mejor para B, cómo si priorizara la victoria más reciente. Es antiintuitivo, ya que a priori uno no diría que uno es mejor que otro ya que están empatados."
   ]
  },
  {
   "cell_type": "markdown",
   "metadata": {},
   "source": [
    "Cómo resolvemos esto?\n",
    "\n",
    "Smoothing: las redes forman parte de una mega red, donde las partes son el modelo en distintos tiempos"
   ]
  },
  {
   "cell_type": "code",
   "execution_count": null,
   "metadata": {},
   "outputs": [],
   "source": []
  }
 ],
 "metadata": {
  "language_info": {
   "name": "python"
  }
 },
 "nbformat": 4,
 "nbformat_minor": 2
}
