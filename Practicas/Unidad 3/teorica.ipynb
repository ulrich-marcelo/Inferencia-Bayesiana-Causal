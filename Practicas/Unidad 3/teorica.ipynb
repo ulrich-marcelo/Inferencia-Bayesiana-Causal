{
 "cells": [
  {
   "cell_type": "markdown",
   "metadata": {},
   "source": [
    "Redes Bayesianas\n",
    "\n",
    "Descomposiciones condicionales...\n",
    "Podemos, por aplicacion estricta de las reglas de la probabilidad, descomponer distribucinoes conjuntas en distintas condicionales con menos dimensiones\n",
    "\n",
    "P(l,e,t,r,a) = P(l)P(e|l)P(t|l,e)P(r|l,e,t)P(a|l,e,t,r)\n",
    "\n",
    "Se genera digrafo: nodo es variable, direccion es (a causa b) \n",
    "\n",
    "Pero, cual desconposicion debemos elegir? Hay muchas posibles!!!"
   ]
  },
  {
   "cell_type": "markdown",
   "metadata": {},
   "source": [
    "Historias Bayesianas: \n",
    "Basicamente, intuitivamente relacionamos distintas variables y definimos dependencias.\n",
    "\n",
    "Ejemplo Llamada, Entradera, Terremoto, Redes y Alarma."
   ]
  },
  {
   "cell_type": "markdown",
   "metadata": {},
   "source": [
    "Cada variable es el resumen del comportamiento de un sistema complejo, que podemos representar con subredes"
   ]
  },
  {
   "cell_type": "markdown",
   "metadata": {},
   "source": [
    "Redes bayesianas permiten definir probabilidad conjunta, dar intuicion y algo mas, ver diapo!!\n",
    "Permiten disminuir dimensionanildad de una distribucion (de una conjunta de 5 pasamos a 2 independientes, una condicional doble y dos condicionales simples)"
   ]
  },
  {
   "cell_type": "markdown",
   "metadata": {},
   "source": [
    "Redes bayesiana\n",
    "Falopa de la rica"
   ]
  },
  {
   "cell_type": "markdown",
   "metadata": {},
   "source": [
    "## Clase 23/09"
   ]
  },
  {
   "cell_type": "markdown",
   "metadata": {},
   "source": [
    "Repaso para modelo de habilidad y ejercitacion guia 2.\n",
    "\n",
    "Biblio Factor Graph & ... de Kschischang 2001\n",
    "\n",
    "\n",
    "Ejercicio: Flujos de inferencia. CUando se abre el flujo de inferencia y cuando no...\n",
    "\n",
    "Intermedio observable. Ver ejercicio"
   ]
  },
  {
   "cell_type": "markdown",
   "metadata": {},
   "source": [
    "Mecanismos causales dinamicos.\n",
    "Como pasar de diagrama previo a factor graph. caso modelo monty_hall plus (el de a y p).\n",
    "\n",
    "Gates: compuertas en factor graphs...\n",
    "\n",
    "Flujos de inferencia entre episodios...\n",
    "cada episodio tiene a distinto, pero p es el mismo, es el que maneja el flujo de informacion..."
   ]
  },
  {
   "cell_type": "markdown",
   "metadata": {},
   "source": [
    "Ejemplo:\n",
    "P(r,c,s,a|p) = P(r,c,s,a,p) / P(p) = P(r,c,s|a,p) P(a,p) / P(p) = P(r,c,s|a) * P(a|p) *P(p) / P(p) = P(r,c,s|a) * P(a|p)"
   ]
  },
  {
   "cell_type": "markdown",
   "metadata": {},
   "source": []
  }
 ],
 "metadata": {
  "kernelspec": {
   "display_name": ".venv",
   "language": "python",
   "name": "python3"
  },
  "language_info": {
   "name": "python",
   "version": "3.10.12"
  }
 },
 "nbformat": 4,
 "nbformat_minor": 2
}
