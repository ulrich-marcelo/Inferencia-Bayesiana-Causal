{
 "cells": [
  {
   "cell_type": "markdown",
   "metadata": {},
   "source": [
    "Redes Bayesianas\n",
    "\n",
    "Descomposiciones condicionales...\n",
    "Podemos, por aplicacion estricta de las reglas de la probabilidad, descomponer distribucinoes conjuntas en distintas condicionales con menos dimensiones\n",
    "\n",
    "P(l,e,t,r,a) = P(l)P(e|l)P(t|l,e)P(r|l,e,t)P(a|l,e,t,r)\n",
    "\n",
    "Se genera digrafo: nodo es variable, direccion es (a causa b) \n",
    "\n",
    "Pero, cual desconposicion debemos elegir? Hay muchas posibles!!!"
   ]
  },
  {
   "cell_type": "markdown",
   "metadata": {},
   "source": [
    "Historias Bayesianas: \n",
    "Basicamente, intuitivamente relacionamos distintas variables y definimos dependencias.\n",
    "\n",
    "Ejemplo Llamada, Entradera, Terremoto, Redes y Alarma."
   ]
  },
  {
   "cell_type": "markdown",
   "metadata": {},
   "source": [
    "Cada variable es el resumen del comportamiento de un sistema complejo, que podemos representar con subredes"
   ]
  },
  {
   "cell_type": "markdown",
   "metadata": {},
   "source": [
    "Redes bayesianas permiten definir probabilidad conjunta, dar intuicion y algo mas, ver diapo!!\n",
    "Permiten disminuir dimensionanildad de una distribucion (de una conjunta de 5 pasamos a 2 independientes, una condicional doble y dos condicionales simples)"
   ]
  },
  {
   "cell_type": "markdown",
   "metadata": {},
   "source": [
    "Redes bayesiana\n",
    "Falopa de la rica"
   ]
  }
 ],
 "metadata": {
  "kernelspec": {
   "display_name": ".venv",
   "language": "python",
   "name": "python3"
  },
  "language_info": {
   "name": "python",
   "version": "3.10.12"
  }
 },
 "nbformat": 4,
 "nbformat_minor": 2
}
